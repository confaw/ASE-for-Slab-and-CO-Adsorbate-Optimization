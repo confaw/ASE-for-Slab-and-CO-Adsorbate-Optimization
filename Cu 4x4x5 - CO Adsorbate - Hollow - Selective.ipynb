{
 "cells": [
  {
   "cell_type": "code",
   "execution_count": 1,
   "id": "6282dc49",
   "metadata": {},
   "outputs": [],
   "source": [
    "from ase.io import read, write\n",
    "from ase.build import fcc111\n",
    "from ase.visualize import view\n",
    "from ase import Atoms\n",
    "from ase.build import fcc111, add_adsorbate\n",
    "from ase.build import molecule\n",
    "from ase.constraints import FixAtoms"
   ]
  },
  {
   "cell_type": "code",
   "execution_count": 2,
   "id": "2f47f2ea",
   "metadata": {},
   "outputs": [],
   "source": [
    "slab = fcc111('Cu', size=(4,4,5))\n",
    "slab.center(vacuum=8, axis=2)\n",
    "\n",
    "offset = 2\n",
    "target_position = offset\n",
    "\n",
    "current_bottom = slab.get_positions()[:,2].min()\n",
    "\n",
    "slab.positions[:,2] += (target_position - current_bottom)\n",
    "\n",
    "mask = [atom.tag > 3 for atom in slab]\n",
    "slab.set_constraint(FixAtoms(mask=mask))\n",
    "\n",
    "atoms = molecule('CO')\n",
    "add_adsorbate(slab, atoms, 2.7, ( 2.6 ,  -3.0))\n",
    "\n",
    "write('Cu111_ts.vasp', slab,  direct=False,  vasp5=True)"
   ]
  },
  {
   "cell_type": "code",
   "execution_count": null,
   "id": "a8f21f13",
   "metadata": {},
   "outputs": [],
   "source": []
  },
  {
   "cell_type": "code",
   "execution_count": null,
   "id": "de4533e8-e714-4f03-b19b-0c36955c8a1b",
   "metadata": {},
   "outputs": [],
   "source": []
  },
  {
   "cell_type": "code",
   "execution_count": null,
   "id": "a6f63c55-6f55-49a4-94ba-cc306c714178",
   "metadata": {},
   "outputs": [],
   "source": []
  }
 ],
 "metadata": {
  "kernelspec": {
   "display_name": "Python 3 (ipykernel)",
   "language": "python",
   "name": "python3"
  },
  "language_info": {
   "codemirror_mode": {
    "name": "ipython",
    "version": 3
   },
   "file_extension": ".py",
   "mimetype": "text/x-python",
   "name": "python",
   "nbconvert_exporter": "python",
   "pygments_lexer": "ipython3",
   "version": "3.12.6"
  }
 },
 "nbformat": 4,
 "nbformat_minor": 5
}
