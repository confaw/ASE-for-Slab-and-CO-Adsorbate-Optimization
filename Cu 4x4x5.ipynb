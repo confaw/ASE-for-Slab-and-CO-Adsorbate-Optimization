{
 "cells": [
  {
   "cell_type": "code",
   "execution_count": 1,
   "id": "6282dc49",
   "metadata": {},
   "outputs": [],
   "source": [
    "from ase.io import read, write\n",
    "from ase.build import bcc110, fcc111, hcp0001, fcc100,fcc110, fcc211,hcp10m10\n",
    "from ase.visualize import view\n",
    "from ase import Atoms\n",
    "from ase.build import fcc111, add_adsorbate\n",
    "from ase.build import molecule\n",
    "from ase.constraints import FixAtoms"
   ]
  },
  {
   "cell_type": "code",
   "execution_count": 3,
   "id": "2f47f2ea",
   "metadata": {},
   "outputs": [],
   "source": [
    "slab = fcc111('Cu', size=(4,4,5))\n",
    "slab.center(vacuum=8, axis=2)\n",
    "\n",
    "offset = 0.1\n",
    "target_position = offset\n",
    "\n",
    "current_bottom = slab.get_positions()[:, 2].min()\n",
    "\n",
    "slab.positions[:, 2] += (target_position - current_bottom)\n",
    "\n",
    "write('Cu111_ts.vasp', slab,  direct=False,  vasp5=True)"
   ]
  },
  {
   "cell_type": "code",
   "execution_count": null,
   "id": "a8f21f13",
   "metadata": {},
   "outputs": [],
   "source": []
  }
 ],
 "metadata": {
  "kernelspec": {
   "display_name": "Python 3 (ipykernel)",
   "language": "python",
   "name": "python3"
  },
  "language_info": {
   "codemirror_mode": {
    "name": "ipython",
    "version": 3
   },
   "file_extension": ".py",
   "mimetype": "text/x-python",
   "name": "python",
   "nbconvert_exporter": "python",
   "pygments_lexer": "ipython3",
   "version": "3.10.9"
  }
 },
 "nbformat": 4,
 "nbformat_minor": 5
}
