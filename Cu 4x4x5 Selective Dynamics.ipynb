{
 "cells": [
  {
   "cell_type": "code",
   "execution_count": 3,
   "id": "e37b1a5e",
   "metadata": {},
   "outputs": [],
   "source": [
    "from ase.io import read, write\n",
    "from ase.build import fcc111\n",
    "from ase.visualize import view\n",
    "from ase import Atoms\n",
    "from ase.build import fcc111, add_adsorbate\n",
    "from ase.build import molecule\n",
    "from ase.constraints import FixAtoms"
   ]
  },
  {
   "cell_type": "code",
   "execution_count": 5,
   "id": "4c2c4de3",
   "metadata": {},
   "outputs": [],
   "source": [
    "slab = fcc111('Cu', size=(4,4,5))\n",
    "slab.center(vacuum=8, axis=2)\n",
    "\n",
    "offset = 2\n",
    "target_position = offset\n",
    "\n",
    "current_bottom = slab.get_positions()[:,2].min()\n",
    "\n",
    "slab.positions[:,2] += (target_position - current_bottom)\n",
    "\n",
    "mask = [atom.tag > 3 for atom in slab]\n",
    "slab.set_constraint(FixAtoms(mask=mask))\n",
    "\n",
    "write('Cu111_ts.vasp', slab,  direct=False,  vasp5=True)\n"
   ]
  },
  {
   "cell_type": "code",
   "execution_count": null,
   "id": "f58ba944",
   "metadata": {},
   "outputs": [],
   "source": []
  },
  {
   "cell_type": "code",
   "execution_count": null,
   "id": "ca0ab8d3-c68f-4664-a589-f73b74b2b7fc",
   "metadata": {},
   "outputs": [],
   "source": []
  }
 ],
 "metadata": {
  "kernelspec": {
   "display_name": "Python 3 (ipykernel)",
   "language": "python",
   "name": "python3"
  },
  "language_info": {
   "codemirror_mode": {
    "name": "ipython",
    "version": 3
   },
   "file_extension": ".py",
   "mimetype": "text/x-python",
   "name": "python",
   "nbconvert_exporter": "python",
   "pygments_lexer": "ipython3",
   "version": "3.12.6"
  }
 },
 "nbformat": 4,
 "nbformat_minor": 5
}
